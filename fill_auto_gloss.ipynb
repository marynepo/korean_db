{
 "cells": [
  {
   "cell_type": "code",
   "execution_count": 2,
   "metadata": {},
   "outputs": [],
   "source": [
    "import re\n",
    "import sqlite3"
   ]
  },
  {
   "cell_type": "code",
   "execution_count": 3,
   "metadata": {},
   "outputs": [],
   "source": [
    "base_name = 'tonmon.sqlite'\n",
    "table_names = ['ver_B', 'ver_C'] #таблицы, из которых берутся данные для авторазметки\n",
    "table_name = 'ver_B' #таблица, которую мы размечаем\n",
    "con = sqlite3.connect(base_name)\n",
    "cur = con.cursor()"
   ]
  },
  {
   "cell_type": "code",
   "execution_count": null,
   "metadata": {},
   "outputs": [],
   "source": [
    "def get_voc(table_names):\n",
    "    cur.execute('SELECT DISTINCT SUF, GLOSS, WClass FROM {} GROUP BY SUF, WClass'.format(*table_names))\n",
    "    voc = cur.fetchall()\n",
    "    con.commit()\n",
    "    v_dic = {}\n",
    "    for suf, gloss, wc in voc:\n",
    "        if suf and suf != '' and gloss and wc:\n",
    "            sufs = re.split('=|\\+', suf)\n",
    "            glosses = re.split('\\+|=', gloss)\n",
    "            for s, gl in zip(sufs, glosses):\n",
    "                if wc == 'BV' or 'NEGPrep' in wc or 'COP' in wc:\n",
    "                    wc = 'P'\n",
    "                if wc == 'BN':\n",
    "                    wc = 'N'\n",
    "                if (s, wc) not in v_dic:\n",
    "                    v_dic[(s, wc)] = [gl]\n",
    "                elif gl not in v_dic[(s, wc)]:\n",
    "                    v_dic[(s, wc)].append(gl)\n",
    "                if gl == 'NMNZ' or wc == 'BN':\n",
    "                    wc = 'N'\n",
    "                if gl == 'COP':\n",
    "                    wc = 'P'\n",
    "                    \n",
    "    return v_dic"
   ]
  },
  {
   "cell_type": "code",
   "execution_count": null,
   "metadata": {},
   "outputs": [],
   "source": [
    "def auto_gloss(table_names, table_name):\n",
    "    voc = get_voc(table_names)\n",
    "    cur.execute('SELECT ID, SUF, WClass FROM {}'.format(table_name))\n",
    "    vals = cur.fetchall()\n",
    "    glosses = []\n",
    "    for i, suf, wc in vals:\n",
    "        if suf and wc and suf != '':\n",
    "            sufs = re.split('=|\\+', suf)\n",
    "            if wc == 'BN':\n",
    "                wc = 'N'\n",
    "            if wc == 'BV' or 'NEGPrep' in wc or 'COP' in wc:\n",
    "                wc = 'P'\n",
    "            gl = []\n",
    "            for s in sufs:\n",
    "                if (s, wc) in voc:\n",
    "                    gl.append('|'.join(voc[(s, wc)]))\n",
    "                    if voc[(s, wc)] == ['NMNZ']:\n",
    "                        wc = 'N'\n",
    "                else:\n",
    "                    gl.append('?')\n",
    "            gl = '+'.join(gl)\n",
    "            cur.execute('UPDATE {} SET AUTO_GLOSS = ? WHERE ID = {}'.format(table_name, i), (gl,))\n",
    "            con.commit()"
   ]
  }
 ],
 "metadata": {
  "kernelspec": {
   "display_name": "Python 3",
   "language": "python",
   "name": "python3"
  },
  "language_info": {
   "codemirror_mode": {
    "name": "ipython",
    "version": 3
   },
   "file_extension": ".py",
   "mimetype": "text/x-python",
   "name": "python",
   "nbconvert_exporter": "python",
   "pygments_lexer": "ipython3",
   "version": "3.7.4"
  }
 },
 "nbformat": 4,
 "nbformat_minor": 2
}
