{
 "cells": [
  {
   "cell_type": "code",
   "execution_count": 1,
   "metadata": {},
   "outputs": [],
   "source": [
    "import sqlite3\n",
    "import re\n",
    "import csv"
   ]
  },
  {
   "cell_type": "code",
   "execution_count": null,
   "metadata": {},
   "outputs": [],
   "source": [
    "def create_table(table_name, pr_base=None, pr_table=None, pr_file=None):\n",
    "    cur.execute('''CREATE TABLE IF NOT EXISTS {table_name}\n",
    "    (ID INTEGER, ADDRESS text, KOR text, TRANSLIT text, BASE text, SUF text, GLOSS text, AUTO_GLOSS text, TRANS text, ContKOR text, RUS text, WClass text, COMMENT text, PRIMARY KEY (ID  AUTOINCREMENT))'''.format(table_name=table_name))\n",
    "    data = None\n",
    "    if pr_base is not None:\n",
    "        con2 = sqlite3.connect(pr_base)\n",
    "        cur2 = con2.cursor()\n",
    "        cur2.execute('''SELECT ADDRESS, KOR, ОСНОВА, ХВОСТ, GLOSS, TRANS, ContKOR, RUS, WClass, Поле1 FROM {pr_table}'''.format(pr_table=pr_table))\n",
    "        data = cur2.fetchall()\n",
    "        con2.commit()\n",
    "        con2.close()\n",
    "    if pr_file is not None:\n",
    "        data = []\n",
    "        with open(pr_file) as f:\n",
    "            if pr_file[-3:] == 'tsv':\n",
    "                dl = '\\t'\n",
    "            else:\n",
    "                dl = ','\n",
    "            for row in csv.reader(f, delimiter=dl):\n",
    "                if pr_file not in ['Nastya2.tsv', 'Nastya3.tsv']:\n",
    "                    data.append(row[1:])\n",
    "                else:\n",
    "                    data.append(row)\n",
    "        data = data[1:]\n",
    "        if 'Denis' in pr_file or 'Nastya' in pr_file:\n",
    "            data = [rw[:2] + rw[3:7] + rw[8:6:-1] + rw[2:3] + rw[-1:] for rw in data]\n",
    "        elif 'Seva' in pr_file:\n",
    "            data = [rw[:2] + rw[3:7] + [''] + rw[7:8] + rw[2:3] + rw[-1:] for rw in data]\n",
    "        print(data[0], len(data))\n",
    "    if data is not None:\n",
    "        cur.executemany('''INSERT INTO {table_name} ('ADDRESS', 'KOR', 'BASE', 'SUF', 'GLOSS',\n",
    "        'TRANS', 'ContKOR', 'RUS', 'WClass', 'COMMENT') VALUES(?, ?, ?, ?, ?, ?, ?, ?, ?, ?)'''.format(table_name=table_name),\n",
    "                        data)\n",
    "    con.commit()"
   ]
  },
  {
   "cell_type": "code",
   "execution_count": null,
   "metadata": {},
   "outputs": [],
   "source": [
    "pr_base = 'data.sqlite'\n",
    "pr_tables = ['Denis4', 'Dasha5','Nastya6', 'GenConc']\n",
    "for pr_tab in pr_tables:\n",
    "    create_table('ver_B', pr_base=pr_base, pr_table=pr_tab)"
   ]
  },
  {
   "cell_type": "code",
   "execution_count": null,
   "metadata": {},
   "outputs": [],
   "source": [
    "pr_files = ['Dasha1.csv', 'Nastya1.tsv', 'Seva1.csv', 'Denis1.csv', 'Dasha2.csv', 'Nastya2.tsv', 'Seva2.csv', 'Denis2.csv', 'Dasha3.csv', 'Nastya3.tsv']\n",
    "for pr_f in pr_files:\n",
    "    print(pr_f)\n",
    "    create_table('ver_C', pr_file=pr_f)"
   ]
  },
  {
   "cell_type": "code",
   "execution_count": 2,
   "metadata": {},
   "outputs": [],
   "source": [
    "base_name = 'tonmon.sqlite'\n",
    "con = sqlite3.connect(base_name)\n",
    "cur = con.cursor()"
   ]
  },
  {
   "cell_type": "code",
   "execution_count": 3,
   "metadata": {},
   "outputs": [],
   "source": [
    "cur.execute('SELECT DISTINCT GLOSS FROM ver_B')\n",
    "gs = cur.fetchall()\n",
    "cur.execute('SELECT DISTINCT GLOSS FROM ver_C')\n",
    "gs2 = cur.fetchall()\n",
    "gls = set()\n",
    "for i in gs + gs2:\n",
    "    if i[0] and i[0] != '':\n",
    "        for w in re.split(r'\\+|=|-', i[0]):\n",
    "            gls.add(w.upper())"
   ]
  },
  {
   "cell_type": "code",
   "execution_count": 4,
   "metadata": {},
   "outputs": [],
   "source": [
    "#gl_dic = {'DECL': ' DECL', 'DECL', 'DECK'}\n",
    "gl_dic = {}\n",
    "for g in gls:\n",
    "    if len(g.strip(' ')) > 4:\n",
    "        if g.strip(' ')[:4] not in gl_dic:\n",
    "            gl_dic[g.strip(' ')[:4]] = [g]\n",
    "        else:\n",
    "            gl_dic[g.strip(' ')[:4]].append(g)\n",
    "    else:\n",
    "        if g not in gl_dic:\n",
    "            gl_dic[g] = [g]\n",
    "        else:\n",
    "            gl_dic[g].append(g)"
   ]
  },
  {
   "cell_type": "code",
   "execution_count": 5,
   "metadata": {},
   "outputs": [],
   "source": [
    "gl_dic['HONSub'] = ['HONSUBJ', 'HONSUB']\n",
    "gl_dic['HONSub.VOL'] = ['HONSUB.VOL']\n",
    "gl_dic['COMIT'] = ['COMI?', 'COMI', 'COMIT']\n",
    "gl_dic['ADVS'] = ['ADV(S)', 'ADVS', 'ADV']\n",
    "gl_dic['?'] = ['?', '??', '???']\n",
    "gl_dic['LOC'] = ['LOC?', 'LOC']\n",
    "gl_dic['DECL'] = ['DECL/QUOT', 'DECL', 'DECK']\n",
    "gl_dic['NMNZ'] = ['NOMZ', '?NOMZ', 'NMLZ', 'NMNZ']\n",
    "gl_dic['TOP'] = ['TOP', '?TOP']\n",
    "gl_dic['INTER'] = ['INTER', 'INTERWH', 'INTR']\n",
    "gl_dic['QUOT'] = ['QOUT', 'QUOT']\n",
    "gl_dic['LYRDECL'] = ['LYCDECL', 'LYRDEC']\n",
    "gl_dic['NEG'] = ['NEG?', 'NEG']\n",
    "gl_dic['CV'] = ['CV', 'CONV', 'CONVERB']\n",
    "gl_dic['SHOULD'] = ['SHOULD']\n",
    "gl_dic['IND'] = ['IND?', 'IND']\n",
    "gl_dic['PProb'] = ['PPROB']\n",
    "gl_dic['DRV{N}'] = ['DRV{N}']"
   ]
  },
  {
   "cell_type": "code",
   "execution_count": 6,
   "metadata": {},
   "outputs": [],
   "source": [
    "del gl_dic['NMLZ']\n",
    "del gl_dic['DRV{']\n",
    "del gl_dic['NOM(']\n",
    "del gl_dic['SHOU']\n",
    "del gl_dic['PPRO']\n",
    "del gl_dic['IND?']\n",
    "del gl_dic['NEG?']\n",
    "del gl_dic['HONS']\n",
    "del gl_dic['COMI']\n",
    "del gl_dic['ADV(']\n",
    "del gl_dic['ADV']\n",
    "del gl_dic['??']\n",
    "del gl_dic['???']\n",
    "del gl_dic['LOC?']\n",
    "del gl_dic['?TOP']\n",
    "del gl_dic['?NOM']\n",
    "del gl_dic['DECK']\n",
    "del gl_dic['NOMZ']\n",
    "del gl_dic['INTR']\n",
    "del gl_dic['QOUT']\n",
    "del gl_dic['LYCD']\n",
    "del gl_dic['LYRD']\n",
    "del gl_dic['INTE']"
   ]
  },
  {
   "cell_type": "code",
   "execution_count": 7,
   "metadata": {},
   "outputs": [],
   "source": [
    "un_gls = {}\n",
    "for k, vals in gl_dic.items():\n",
    "    for val in vals:\n",
    "        un_gls[val] = k"
   ]
  },
  {
   "cell_type": "code",
   "execution_count": 8,
   "metadata": {},
   "outputs": [],
   "source": [
    "def uni_gloss(un_gls, table_name):\n",
    "    cur.execute('SELECT ID, GLOSS FROM {}'.format(table_name))\n",
    "    vals = cur.fetchall()\n",
    "    for i, gl in vals:\n",
    "        if gl is not None and gl != '':\n",
    "            gl = '+'.join([un_gls[s.upper()] for s in re.split('\\+|=|-', gl)])\n",
    "            cur.execute('UPDATE {} SET GLOSS = ? WHERE ID = {}'.format(table_name, i), (gl,))\n",
    "            con.commit()"
   ]
  },
  {
   "cell_type": "code",
   "execution_count": 11,
   "metadata": {},
   "outputs": [],
   "source": [
    "table_name = 'ver_B'\n",
    "uni_gloss(un_gls, 'ver_B')"
   ]
  },
  {
   "cell_type": "code",
   "execution_count": 12,
   "metadata": {},
   "outputs": [],
   "source": [
    "table_name = 'ver_C'\n",
    "uni_gloss(un_gls, 'ver_B')"
   ]
  },
  {
   "cell_type": "code",
   "execution_count": null,
   "metadata": {},
   "outputs": [],
   "source": []
  }
 ],
 "metadata": {
  "kernelspec": {
   "display_name": "Python 3",
   "language": "python",
   "name": "python3"
  },
  "language_info": {
   "codemirror_mode": {
    "name": "ipython",
    "version": 3
   },
   "file_extension": ".py",
   "mimetype": "text/x-python",
   "name": "python",
   "nbconvert_exporter": "python",
   "pygments_lexer": "ipython3",
   "version": "3.7.4"
  }
 },
 "nbformat": 4,
 "nbformat_minor": 2
}
