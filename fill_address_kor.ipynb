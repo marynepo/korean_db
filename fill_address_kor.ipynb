{
 "cells": [
  {
   "cell_type": "code",
   "execution_count": 1,
   "metadata": {},
   "outputs": [],
   "source": [
    "import sqlite3\n",
    "import re"
   ]
  },
  {
   "cell_type": "code",
   "execution_count": null,
   "metadata": {},
   "outputs": [],
   "source": [
    "base_name = 'tonmon.sqlite' #название вашей базы\n",
    "file_name = 'ex_text.txt' #путь к вашему файлу c текстом\n",
    "table_name = 'Example' #название вашей таблицы\n",
    "page = '13a' #первая часть адреса первой строки в вашем файле\n",
    "num_line = 1 #вторая часть адреса первой строки в вашем файле\n",
    "conn = sqlite3.connect(base_name)\n",
    "c = con.cursor()"
   ]
  },
  {
   "cell_type": "code",
   "execution_count": null,
   "metadata": {},
   "outputs": [],
   "source": [
    "def fill_table(file_name, table_name, page, num_line):\n",
    "    with open(file_name, 'r') as f:\n",
    "        for line in f:\n",
    "            new_page = re.search('\\d+[ab]', line)\n",
    "            if new_page:\n",
    "                num_line = 1\n",
    "                address = new_page.group(0) + ' ' + str(num_line)\n",
    "                page = new_page.group(0)\n",
    "            else:\n",
    "                address = page + ' ' + str(num_line)\n",
    "            words = line.split()\n",
    "            for word in words:\n",
    "                if new_page and page in word:\n",
    "                    word = re.sub(page, '', word)\n",
    "                if len(word) > 0:\n",
    "                    c.execute('INSERT INTO {table_name} (ADDRESS, KOR) VALUES (?, ?)'.format(table_name=table_name), (address, word))\n",
    "            num_line += 1\n",
    "        \n",
    "        \n",
    "    conn.commit()"
   ]
  },
  {
   "cell_type": "code",
   "execution_count": null,
   "metadata": {},
   "outputs": [],
   "source": [
    "conn.close()"
   ]
  }
 ],
 "metadata": {
  "kernelspec": {
   "display_name": "Python 3",
   "language": "python",
   "name": "python3"
  },
  "language_info": {
   "codemirror_mode": {
    "name": "ipython",
    "version": 3
   },
   "file_extension": ".py",
   "mimetype": "text/x-python",
   "name": "python",
   "nbconvert_exporter": "python",
   "pygments_lexer": "ipython3",
   "version": "3.7.4"
  }
 },
 "nbformat": 4,
 "nbformat_minor": 2
}
